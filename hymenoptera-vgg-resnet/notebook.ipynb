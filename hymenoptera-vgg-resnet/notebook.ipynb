{
  "nbformat": 4,
  "nbformat_minor": 0,
  "metadata": {
    "kernelspec": {
      "display_name": "Python 3",
      "language": "python",
      "name": "python3"
    },
    "language_info": {
      "codemirror_mode": {
        "name": "ipython",
        "version": 3
      },
      "file_extension": ".py",
      "mimetype": "text/x-python",
      "name": "python",
      "nbconvert_exporter": "python",
      "pygments_lexer": "ipython3",
      "version": "3.7.7"
    },
    "colab": {
      "name": "notebook.ipynb",
      "provenance": [],
      "collapsed_sections": []
    },
    "accelerator": "GPU"
  },
  "cells": [
    {
      "cell_type": "markdown",
      "metadata": {
        "id": "XBOo9qokW2Bm"
      },
      "source": [
        ""
      ]
    },
    {
      "cell_type": "code",
      "metadata": {
        "id": "3pG1472ZlRaP"
      },
      "source": [
        "import torch\n",
        "import os\n",
        "import numpy as np\n",
        "import torchvision as tv\n",
        "import matplotlib.pyplot as plt\n",
        "from torchvision import datasets, models, transforms\n",
        "%matplotlib inline"
      ],
      "execution_count": 1,
      "outputs": []
    },
    {
      "cell_type": "code",
      "metadata": {
        "id": "6mc7b7JzlRaU",
        "colab": {
          "base_uri": "https://localhost:8080/"
        },
        "outputId": "4018f708-5179-4a8a-dd29-dde3fc6455a5"
      },
      "source": [
        "resnet18 = models.resnet18()\n",
        "print(resnet18)\n",
        "vgg16 = models.vgg16()\n",
        "print(vgg16)"
      ],
      "execution_count": 2,
      "outputs": [
        {
          "output_type": "stream",
          "text": [
            "ResNet(\n",
            "  (conv1): Conv2d(3, 64, kernel_size=(7, 7), stride=(2, 2), padding=(3, 3), bias=False)\n",
            "  (bn1): BatchNorm2d(64, eps=1e-05, momentum=0.1, affine=True, track_running_stats=True)\n",
            "  (relu): ReLU(inplace=True)\n",
            "  (maxpool): MaxPool2d(kernel_size=3, stride=2, padding=1, dilation=1, ceil_mode=False)\n",
            "  (layer1): Sequential(\n",
            "    (0): BasicBlock(\n",
            "      (conv1): Conv2d(64, 64, kernel_size=(3, 3), stride=(1, 1), padding=(1, 1), bias=False)\n",
            "      (bn1): BatchNorm2d(64, eps=1e-05, momentum=0.1, affine=True, track_running_stats=True)\n",
            "      (relu): ReLU(inplace=True)\n",
            "      (conv2): Conv2d(64, 64, kernel_size=(3, 3), stride=(1, 1), padding=(1, 1), bias=False)\n",
            "      (bn2): BatchNorm2d(64, eps=1e-05, momentum=0.1, affine=True, track_running_stats=True)\n",
            "    )\n",
            "    (1): BasicBlock(\n",
            "      (conv1): Conv2d(64, 64, kernel_size=(3, 3), stride=(1, 1), padding=(1, 1), bias=False)\n",
            "      (bn1): BatchNorm2d(64, eps=1e-05, momentum=0.1, affine=True, track_running_stats=True)\n",
            "      (relu): ReLU(inplace=True)\n",
            "      (conv2): Conv2d(64, 64, kernel_size=(3, 3), stride=(1, 1), padding=(1, 1), bias=False)\n",
            "      (bn2): BatchNorm2d(64, eps=1e-05, momentum=0.1, affine=True, track_running_stats=True)\n",
            "    )\n",
            "  )\n",
            "  (layer2): Sequential(\n",
            "    (0): BasicBlock(\n",
            "      (conv1): Conv2d(64, 128, kernel_size=(3, 3), stride=(2, 2), padding=(1, 1), bias=False)\n",
            "      (bn1): BatchNorm2d(128, eps=1e-05, momentum=0.1, affine=True, track_running_stats=True)\n",
            "      (relu): ReLU(inplace=True)\n",
            "      (conv2): Conv2d(128, 128, kernel_size=(3, 3), stride=(1, 1), padding=(1, 1), bias=False)\n",
            "      (bn2): BatchNorm2d(128, eps=1e-05, momentum=0.1, affine=True, track_running_stats=True)\n",
            "      (downsample): Sequential(\n",
            "        (0): Conv2d(64, 128, kernel_size=(1, 1), stride=(2, 2), bias=False)\n",
            "        (1): BatchNorm2d(128, eps=1e-05, momentum=0.1, affine=True, track_running_stats=True)\n",
            "      )\n",
            "    )\n",
            "    (1): BasicBlock(\n",
            "      (conv1): Conv2d(128, 128, kernel_size=(3, 3), stride=(1, 1), padding=(1, 1), bias=False)\n",
            "      (bn1): BatchNorm2d(128, eps=1e-05, momentum=0.1, affine=True, track_running_stats=True)\n",
            "      (relu): ReLU(inplace=True)\n",
            "      (conv2): Conv2d(128, 128, kernel_size=(3, 3), stride=(1, 1), padding=(1, 1), bias=False)\n",
            "      (bn2): BatchNorm2d(128, eps=1e-05, momentum=0.1, affine=True, track_running_stats=True)\n",
            "    )\n",
            "  )\n",
            "  (layer3): Sequential(\n",
            "    (0): BasicBlock(\n",
            "      (conv1): Conv2d(128, 256, kernel_size=(3, 3), stride=(2, 2), padding=(1, 1), bias=False)\n",
            "      (bn1): BatchNorm2d(256, eps=1e-05, momentum=0.1, affine=True, track_running_stats=True)\n",
            "      (relu): ReLU(inplace=True)\n",
            "      (conv2): Conv2d(256, 256, kernel_size=(3, 3), stride=(1, 1), padding=(1, 1), bias=False)\n",
            "      (bn2): BatchNorm2d(256, eps=1e-05, momentum=0.1, affine=True, track_running_stats=True)\n",
            "      (downsample): Sequential(\n",
            "        (0): Conv2d(128, 256, kernel_size=(1, 1), stride=(2, 2), bias=False)\n",
            "        (1): BatchNorm2d(256, eps=1e-05, momentum=0.1, affine=True, track_running_stats=True)\n",
            "      )\n",
            "    )\n",
            "    (1): BasicBlock(\n",
            "      (conv1): Conv2d(256, 256, kernel_size=(3, 3), stride=(1, 1), padding=(1, 1), bias=False)\n",
            "      (bn1): BatchNorm2d(256, eps=1e-05, momentum=0.1, affine=True, track_running_stats=True)\n",
            "      (relu): ReLU(inplace=True)\n",
            "      (conv2): Conv2d(256, 256, kernel_size=(3, 3), stride=(1, 1), padding=(1, 1), bias=False)\n",
            "      (bn2): BatchNorm2d(256, eps=1e-05, momentum=0.1, affine=True, track_running_stats=True)\n",
            "    )\n",
            "  )\n",
            "  (layer4): Sequential(\n",
            "    (0): BasicBlock(\n",
            "      (conv1): Conv2d(256, 512, kernel_size=(3, 3), stride=(2, 2), padding=(1, 1), bias=False)\n",
            "      (bn1): BatchNorm2d(512, eps=1e-05, momentum=0.1, affine=True, track_running_stats=True)\n",
            "      (relu): ReLU(inplace=True)\n",
            "      (conv2): Conv2d(512, 512, kernel_size=(3, 3), stride=(1, 1), padding=(1, 1), bias=False)\n",
            "      (bn2): BatchNorm2d(512, eps=1e-05, momentum=0.1, affine=True, track_running_stats=True)\n",
            "      (downsample): Sequential(\n",
            "        (0): Conv2d(256, 512, kernel_size=(1, 1), stride=(2, 2), bias=False)\n",
            "        (1): BatchNorm2d(512, eps=1e-05, momentum=0.1, affine=True, track_running_stats=True)\n",
            "      )\n",
            "    )\n",
            "    (1): BasicBlock(\n",
            "      (conv1): Conv2d(512, 512, kernel_size=(3, 3), stride=(1, 1), padding=(1, 1), bias=False)\n",
            "      (bn1): BatchNorm2d(512, eps=1e-05, momentum=0.1, affine=True, track_running_stats=True)\n",
            "      (relu): ReLU(inplace=True)\n",
            "      (conv2): Conv2d(512, 512, kernel_size=(3, 3), stride=(1, 1), padding=(1, 1), bias=False)\n",
            "      (bn2): BatchNorm2d(512, eps=1e-05, momentum=0.1, affine=True, track_running_stats=True)\n",
            "    )\n",
            "  )\n",
            "  (avgpool): AdaptiveAvgPool2d(output_size=(1, 1))\n",
            "  (fc): Linear(in_features=512, out_features=1000, bias=True)\n",
            ")\n",
            "VGG(\n",
            "  (features): Sequential(\n",
            "    (0): Conv2d(3, 64, kernel_size=(3, 3), stride=(1, 1), padding=(1, 1))\n",
            "    (1): ReLU(inplace=True)\n",
            "    (2): Conv2d(64, 64, kernel_size=(3, 3), stride=(1, 1), padding=(1, 1))\n",
            "    (3): ReLU(inplace=True)\n",
            "    (4): MaxPool2d(kernel_size=2, stride=2, padding=0, dilation=1, ceil_mode=False)\n",
            "    (5): Conv2d(64, 128, kernel_size=(3, 3), stride=(1, 1), padding=(1, 1))\n",
            "    (6): ReLU(inplace=True)\n",
            "    (7): Conv2d(128, 128, kernel_size=(3, 3), stride=(1, 1), padding=(1, 1))\n",
            "    (8): ReLU(inplace=True)\n",
            "    (9): MaxPool2d(kernel_size=2, stride=2, padding=0, dilation=1, ceil_mode=False)\n",
            "    (10): Conv2d(128, 256, kernel_size=(3, 3), stride=(1, 1), padding=(1, 1))\n",
            "    (11): ReLU(inplace=True)\n",
            "    (12): Conv2d(256, 256, kernel_size=(3, 3), stride=(1, 1), padding=(1, 1))\n",
            "    (13): ReLU(inplace=True)\n",
            "    (14): Conv2d(256, 256, kernel_size=(3, 3), stride=(1, 1), padding=(1, 1))\n",
            "    (15): ReLU(inplace=True)\n",
            "    (16): MaxPool2d(kernel_size=2, stride=2, padding=0, dilation=1, ceil_mode=False)\n",
            "    (17): Conv2d(256, 512, kernel_size=(3, 3), stride=(1, 1), padding=(1, 1))\n",
            "    (18): ReLU(inplace=True)\n",
            "    (19): Conv2d(512, 512, kernel_size=(3, 3), stride=(1, 1), padding=(1, 1))\n",
            "    (20): ReLU(inplace=True)\n",
            "    (21): Conv2d(512, 512, kernel_size=(3, 3), stride=(1, 1), padding=(1, 1))\n",
            "    (22): ReLU(inplace=True)\n",
            "    (23): MaxPool2d(kernel_size=2, stride=2, padding=0, dilation=1, ceil_mode=False)\n",
            "    (24): Conv2d(512, 512, kernel_size=(3, 3), stride=(1, 1), padding=(1, 1))\n",
            "    (25): ReLU(inplace=True)\n",
            "    (26): Conv2d(512, 512, kernel_size=(3, 3), stride=(1, 1), padding=(1, 1))\n",
            "    (27): ReLU(inplace=True)\n",
            "    (28): Conv2d(512, 512, kernel_size=(3, 3), stride=(1, 1), padding=(1, 1))\n",
            "    (29): ReLU(inplace=True)\n",
            "    (30): MaxPool2d(kernel_size=2, stride=2, padding=0, dilation=1, ceil_mode=False)\n",
            "  )\n",
            "  (avgpool): AdaptiveAvgPool2d(output_size=(7, 7))\n",
            "  (classifier): Sequential(\n",
            "    (0): Linear(in_features=25088, out_features=4096, bias=True)\n",
            "    (1): ReLU(inplace=True)\n",
            "    (2): Dropout(p=0.5, inplace=False)\n",
            "    (3): Linear(in_features=4096, out_features=4096, bias=True)\n",
            "    (4): ReLU(inplace=True)\n",
            "    (5): Dropout(p=0.5, inplace=False)\n",
            "    (6): Linear(in_features=4096, out_features=1000, bias=True)\n",
            "  )\n",
            ")\n"
          ],
          "name": "stdout"
        }
      ]
    },
    {
      "cell_type": "code",
      "metadata": {
        "colab": {
          "base_uri": "https://localhost:8080/"
        },
        "id": "Z4-jXlb6dtEr",
        "outputId": "75ad5c42-a946-4448-88e7-a0af4472fe8a"
      },
      "source": [
        "from google.colab import drive\n",
        "drive.mount('/content/drive')"
      ],
      "execution_count": 4,
      "outputs": [
        {
          "output_type": "stream",
          "text": [
            "Mounted at /content/drive\n"
          ],
          "name": "stdout"
        }
      ]
    },
    {
      "cell_type": "code",
      "metadata": {
        "id": "gefNewbSZThp"
      },
      "source": [
        "data_transforms = {\n",
        "    \"train\": transforms.Compose([\n",
        "      transforms.Resize((224, 224)),\n",
        "      transforms.ToTensor(),\n",
        "    ]),\n",
        "    \"val\": transforms.Compose([\n",
        "      transforms.Resize((224, 224)),\n",
        "      transforms.ToTensor(),\n",
        "    ]),\n",
        "}\n",
        "\n",
        "BATCH_SIZE = 12\n",
        "\n",
        "data_dir = \"/content/drive/MyDrive/Colab Notebooks/hymenoptera_data\"\n",
        "\n",
        "image_datasets = {key: datasets.ImageFolder(os.path.join(data_dir, key), data_transforms[key]) for key in data_transforms.keys()}\n",
        "dataset_sizes = {key: len(val) for key, val in image_datasets.items()}\n",
        "class_names = image_datasets['train'].classes\n",
        "data_loaders = {key: torch.utils.data.DataLoader(image_datasets[key], batch_size=BATCH_SIZE, shuffle=True) for key in data_transforms.keys()}\n"
      ],
      "execution_count": 69,
      "outputs": []
    },
    {
      "cell_type": "code",
      "metadata": {
        "colab": {
          "base_uri": "https://localhost:8080/"
        },
        "id": "-xzcT8gReQD5",
        "outputId": "90d4466c-7e76-4f24-d8e4-22366e0772f5"
      },
      "source": [
        "device = torch.device(\"cuda:0\" if torch.cuda.is_available() else \"cpu\")\n",
        "device"
      ],
      "execution_count": 6,
      "outputs": [
        {
          "output_type": "execute_result",
          "data": {
            "text/plain": [
              "device(type='cuda', index=0)"
            ]
          },
          "metadata": {
            "tags": []
          },
          "execution_count": 6
        }
      ]
    },
    {
      "cell_type": "code",
      "metadata": {
        "colab": {
          "base_uri": "https://localhost:8080/",
          "height": 165
        },
        "id": "TthfadlEav3d",
        "outputId": "920a1630-a7da-4c16-ba1e-a2ea641c82ef"
      },
      "source": [
        "inputs, classes = next(iter(data_loaders['train']))\n",
        "out = tv.utils.make_grid(inputs)\n",
        "out = out.numpy().transpose((1, 2, 0))\n",
        "plt.imshow(out)\n",
        "plt.title([class_names[key] for key in classes])"
      ],
      "execution_count": 70,
      "outputs": [
        {
          "output_type": "execute_result",
          "data": {
            "text/plain": [
              "Text(0.5, 1.0, \"['ants', 'ants', 'bees', 'ants', 'bees', 'ants', 'bees', 'ants', 'bees', 'bees', 'ants', 'bees']\")"
            ]
          },
          "metadata": {
            "tags": []
          },
          "execution_count": 70
        },
        {
          "output_type": "display_data",
          "data": {
            "image/png": "[encoded data removed]",
            "text/plain": [
              "<Figure size 432x288 with 1 Axes>"
            ]
          },
          "metadata": {
            "tags": [],
            "needs_background": "light"
          }
        }
      ]
    },
    {
      "cell_type": "code",
      "metadata": {
        "id": "CgZI4Ww7ev0n"
      },
      "source": [
        "def train(model, loss, optimizer, num_epochs=5):\n",
        "  for epoch in range(num_epochs):\n",
        "    print(\"Epoch {}/{}: \".format(epoch + 1, num_epochs))\n",
        "\n",
        "    model.train()\n",
        "    train_loss, train_acc = 0, 0\n",
        "    for X, y in data_loaders[\"train\"]:\n",
        "      X = X.to(device)\n",
        "      y = y.to(device)\n",
        "\n",
        "      optimizer.zero_grad()\n",
        "      y_pred = model(X)\n",
        "      _, preds = torch.max(y_pred, 1)\n",
        "      l = loss(y_pred, y)\n",
        "      l.backward()\n",
        "      optimizer.step()\n",
        "      train_loss += l.item() * X.size(0)\n",
        "      train_acc += torch.sum(preds == y.data)\n",
        "    \n",
        "    epoch_loss = train_loss / dataset_sizes[\"train\"]\n",
        "    epoch_acc = train_acc / dataset_sizes[\"train\"]\n",
        "    print('train_loss: {:.4f}, train_acc: {:.4f}'.format(epoch_loss, epoch_acc))\n",
        "\n",
        "    model.eval()\n",
        "    test_loss, test_acc = 0, 0\n",
        "    for X, y in data_loaders[\"val\"]:\n",
        "      X = X.to(device)\n",
        "      y = y.to(device)\n",
        "\n",
        "      y_pred = model(X)\n",
        "      l = loss(y_pred, y)\n",
        "      _, preds = torch.max(y_pred, 1)\n",
        "\n",
        "      test_loss += l.item() * X.size(0)\n",
        "      test_acc += torch.sum(preds == y.data)\n",
        "    \n",
        "    epoch_loss = test_loss / dataset_sizes[\"val\"]\n",
        "    epoch_acc = test_acc / dataset_sizes[\"val\"]\n",
        "    print('test_loss: {:.4f}, test_acc: {:.4f}'.format(epoch_loss, epoch_acc))\n",
        "    print(\"-\" * 80)\n",
        "    print(\"\")"
      ],
      "execution_count": 71,
      "outputs": []
    },
    {
      "cell_type": "markdown",
      "metadata": {
        "id": "ohandJ3Y1QmQ"
      },
      "source": [
        "# Обучение модели ResNet 18 и VGG 16 с нуля"
      ]
    },
    {
      "cell_type": "code",
      "metadata": {
        "colab": {
          "base_uri": "https://localhost:8080/"
        },
        "id": "kUrlwOWcjUZm",
        "outputId": "71a26cf7-cd59-41c0-9249-f0708e3278cd"
      },
      "source": [
        "resnet18 = models.resnet18()\n",
        "resnet18.fc = torch.nn.Linear(resnet18.fc.in_features, 2)\n",
        "resnet18 = resnet18.to(device)\n",
        "loss = torch.nn.CrossEntropyLoss()\n",
        "optimizer = torch.optim.SGD(resnet18.parameters(), lr=0.001, momentum=0.9)\n",
        "train(resnet18, loss, optimizer, 5)"
      ],
      "execution_count": 72,
      "outputs": [
        {
          "output_type": "stream",
          "text": [
            "Epoch 1/5: \n",
            "train_loss: 0.7035, train_acc: 0.5369\n",
            "test_loss: 0.6920, test_acc: 0.4967\n",
            "--------------------------------------------------------------------------------\n",
            "\n",
            "Epoch 2/5: \n",
            "train_loss: 0.6317, train_acc: 0.6557\n",
            "test_loss: 0.7422, test_acc: 0.5359\n",
            "--------------------------------------------------------------------------------\n",
            "\n",
            "Epoch 3/5: \n",
            "train_loss: 0.5604, train_acc: 0.6844\n",
            "test_loss: 0.6591, test_acc: 0.6797\n",
            "--------------------------------------------------------------------------------\n",
            "\n",
            "Epoch 4/5: \n",
            "train_loss: 0.5422, train_acc: 0.7213\n",
            "test_loss: 0.7056, test_acc: 0.6405\n",
            "--------------------------------------------------------------------------------\n",
            "\n",
            "Epoch 5/5: \n",
            "train_loss: 0.5366, train_acc: 0.7500\n",
            "test_loss: 0.5753, test_acc: 0.7255\n",
            "--------------------------------------------------------------------------------\n",
            "\n"
          ],
          "name": "stdout"
        }
      ]
    },
    {
      "cell_type": "code",
      "metadata": {
        "colab": {
          "base_uri": "https://localhost:8080/"
        },
        "id": "XKR9fkXDwX_y",
        "outputId": "3f53b045-9731-45df-b744-89ea5008c2b1"
      },
      "source": [
        "model = models.vgg16()\n",
        "model.classifier[6] = torch.nn.Linear(model.classifier[6].in_features, 2)\n",
        "model = model.to(device)\n",
        "loss = torch.nn.CrossEntropyLoss()\n",
        "optimizer = torch.optim.SGD(model.parameters(), lr=0.001, momentum=0.9)\n",
        "train(model, loss, optimizer, 5)"
      ],
      "execution_count": 82,
      "outputs": [
        {
          "output_type": "stream",
          "text": [
            "Epoch 1/5: \n",
            "train_loss: 0.6979, train_acc: 0.4590\n",
            "test_loss: 0.6909, test_acc: 0.6536\n",
            "--------------------------------------------------------------------------------\n",
            "\n",
            "Epoch 2/5: \n",
            "train_loss: 0.6933, train_acc: 0.4836\n",
            "test_loss: 0.6936, test_acc: 0.4575\n",
            "--------------------------------------------------------------------------------\n",
            "\n",
            "Epoch 3/5: \n",
            "train_loss: 0.6918, train_acc: 0.4836\n",
            "test_loss: 0.6879, test_acc: 0.5490\n",
            "--------------------------------------------------------------------------------\n",
            "\n",
            "Epoch 4/5: \n",
            "train_loss: 0.6890, train_acc: 0.5738\n",
            "test_loss: 0.6899, test_acc: 0.5098\n",
            "--------------------------------------------------------------------------------\n",
            "\n",
            "Epoch 5/5: \n",
            "train_loss: 0.6882, train_acc: 0.5492\n",
            "test_loss: 0.6868, test_acc: 0.6536\n",
            "--------------------------------------------------------------------------------\n",
            "\n"
          ],
          "name": "stdout"
        }
      ]
    },
    {
      "cell_type": "markdown",
      "metadata": {
        "id": "lM0BGEk_1ju6"
      },
      "source": [
        "# FineTuning"
      ]
    },
    {
      "cell_type": "code",
      "metadata": {
        "colab": {
          "base_uri": "https://localhost:8080/"
        },
        "id": "woNO4cxq1igP",
        "outputId": "19ecbfbc-61b2-4936-c1d5-ad38a4ec11ca"
      },
      "source": [
        "resnet18 = models.resnet18(pretrained=True)\n",
        "for param in resnet18.parameters():\n",
        "    param.requires_grad = False\n",
        "\n",
        "resnet18.fc = torch.nn.Linear(resnet18.fc.in_features, 2)\n",
        "resnet18 = resnet18.to(device)\n",
        "\n",
        "loss = torch.nn.CrossEntropyLoss()\n",
        "optimizer = torch.optim.SGD(resnet18.fc.parameters(), lr=0.001, momentum=0.9)\n",
        "train(resnet18, loss, optimizer, 5)"
      ],
      "execution_count": 83,
      "outputs": [
        {
          "output_type": "stream",
          "text": [
            "Epoch 1/5: \n",
            "train_loss: 0.6326, train_acc: 0.6393\n",
            "test_loss: 0.4028, test_acc: 0.8170\n",
            "--------------------------------------------------------------------------------\n",
            "\n",
            "Epoch 2/5: \n",
            "train_loss: 0.3872, train_acc: 0.8279\n",
            "test_loss: 0.2840, test_acc: 0.8954\n",
            "--------------------------------------------------------------------------------\n",
            "\n",
            "Epoch 3/5: \n",
            "train_loss: 0.2721, train_acc: 0.8893\n",
            "test_loss: 0.2864, test_acc: 0.8889\n",
            "--------------------------------------------------------------------------------\n",
            "\n",
            "Epoch 4/5: \n",
            "train_loss: 0.2547, train_acc: 0.9098\n",
            "test_loss: 0.2379, test_acc: 0.9020\n",
            "--------------------------------------------------------------------------------\n",
            "\n",
            "Epoch 5/5: \n",
            "train_loss: 0.1788, train_acc: 0.9508\n",
            "test_loss: 0.2187, test_acc: 0.9281\n",
            "--------------------------------------------------------------------------------\n",
            "\n"
          ],
          "name": "stdout"
        }
      ]
    },
    {
      "cell_type": "code",
      "metadata": {
        "colab": {
          "base_uri": "https://localhost:8080/"
        },
        "id": "vOg-Q13136yl",
        "outputId": "f83cb5c5-bc80-4b8d-b0b7-0de88eeb4374"
      },
      "source": [
        "model = models.vgg16(pretrained=True)\n",
        "for param in model.parameters():\n",
        "    param.requires_grad = False\n",
        "  \n",
        "model.classifier[6] = torch.nn.Linear(model.classifier[6].in_features, 2)\n",
        "model = model.to(device)\n",
        "loss = torch.nn.CrossEntropyLoss()\n",
        "optimizer = torch.optim.SGD(model.classifier[6].parameters(), lr=0.001, momentum=0.9)\n",
        "train(model, loss, optimizer, 5)"
      ],
      "execution_count": 84,
      "outputs": [
        {
          "output_type": "stream",
          "text": [
            "Epoch 1/5: \n",
            "train_loss: 0.4619, train_acc: 0.7828\n",
            "test_loss: 0.3205, test_acc: 0.8954\n",
            "--------------------------------------------------------------------------------\n",
            "\n",
            "Epoch 2/5: \n",
            "train_loss: 0.2701, train_acc: 0.9057\n",
            "test_loss: 0.2721, test_acc: 0.9020\n",
            "--------------------------------------------------------------------------------\n",
            "\n",
            "Epoch 3/5: \n",
            "train_loss: 0.1984, train_acc: 0.9221\n",
            "test_loss: 0.2769, test_acc: 0.8824\n",
            "--------------------------------------------------------------------------------\n",
            "\n",
            "Epoch 4/5: \n",
            "train_loss: 0.1544, train_acc: 0.9426\n",
            "test_loss: 0.2868, test_acc: 0.8824\n",
            "--------------------------------------------------------------------------------\n",
            "\n",
            "Epoch 5/5: \n",
            "train_loss: 0.1240, train_acc: 0.9508\n",
            "test_loss: 0.2786, test_acc: 0.8889\n",
            "--------------------------------------------------------------------------------\n",
            "\n"
          ],
          "name": "stdout"
        }
      ]
    },
    {
      "cell_type": "markdown",
      "metadata": {
        "id": "hJ3LSbVd6RVS"
      },
      "source": [
        "# Augmentation + FineTuning\n",
        "\n"
      ]
    },
    {
      "cell_type": "code",
      "metadata": {
        "id": "mOBPWFpP6X0U"
      },
      "source": [
        "data_transforms = {\n",
        "    \"train\": transforms.Compose([\n",
        "      transforms.RandomRotation(30),\n",
        "      transforms.RandomHorizontalFlip(),\n",
        "      transforms.ColorJitter(0.5, 0.3, 0.2),\n",
        "      transforms.RandomResizedCrop(224),\n",
        "      transforms.ToTensor(),\n",
        "    ]),\n",
        "    \"val\": transforms.Compose([\n",
        "      transforms.Resize((224, 224)),\n",
        "      transforms.ToTensor(),\n",
        "    ]),\n",
        "}\n",
        "\n",
        "BATCH_SIZE = 12\n",
        "\n",
        "data_dir = \"/content/drive/MyDrive/Colab Notebooks/hymenoptera_data\"\n",
        "\n",
        "image_datasets = {key: datasets.ImageFolder(os.path.join(data_dir, key), data_transforms[key]) for key in data_transforms.keys()}\n",
        "dataset_sizes = {key: len(val) for key, val in image_datasets.items()}\n",
        "class_names = image_datasets['train'].classes\n",
        "data_loaders = {key: torch.utils.data.DataLoader(image_datasets[key], batch_size=BATCH_SIZE, shuffle=True) for key in data_transforms.keys()}\n"
      ],
      "execution_count": 86,
      "outputs": []
    },
    {
      "cell_type": "code",
      "metadata": {
        "colab": {
          "base_uri": "https://localhost:8080/"
        },
        "id": "x_HVbZoy7jLr",
        "outputId": "de2c443f-933d-4497-c7d5-19ad4db3c7e0"
      },
      "source": [
        "resnet18 = models.resnet18(pretrained=True)\n",
        "for param in resnet18.parameters():\n",
        "    param.requires_grad = False\n",
        "\n",
        "resnet18.fc = torch.nn.Linear(resnet18.fc.in_features, 2)\n",
        "resnet18 = resnet18.to(device)\n",
        "\n",
        "loss = torch.nn.CrossEntropyLoss()\n",
        "optimizer = torch.optim.SGD(resnet18.fc.parameters(), lr=0.001, momentum=0.9)\n",
        "train(resnet18, loss, optimizer, 5)"
      ],
      "execution_count": 87,
      "outputs": [
        {
          "output_type": "stream",
          "text": [
            "Epoch 1/5: \n",
            "train_loss: 0.6798, train_acc: 0.6270\n",
            "test_loss: 0.4236, test_acc: 0.8170\n",
            "--------------------------------------------------------------------------------\n",
            "\n",
            "Epoch 2/5: \n",
            "train_loss: 0.4160, train_acc: 0.8033\n",
            "test_loss: 0.2771, test_acc: 0.9085\n",
            "--------------------------------------------------------------------------------\n",
            "\n",
            "Epoch 3/5: \n",
            "train_loss: 0.3221, train_acc: 0.8852\n",
            "test_loss: 0.2457, test_acc: 0.9150\n",
            "--------------------------------------------------------------------------------\n",
            "\n",
            "Epoch 4/5: \n",
            "train_loss: 0.3060, train_acc: 0.8811\n",
            "test_loss: 0.2818, test_acc: 0.8889\n",
            "--------------------------------------------------------------------------------\n",
            "\n",
            "Epoch 5/5: \n",
            "train_loss: 0.2552, train_acc: 0.9057\n",
            "test_loss: 0.2173, test_acc: 0.9281\n",
            "--------------------------------------------------------------------------------\n",
            "\n"
          ],
          "name": "stdout"
        }
      ]
    },
    {
      "cell_type": "code",
      "metadata": {
        "colab": {
          "base_uri": "https://localhost:8080/"
        },
        "id": "D-Ub_p2J7uJg",
        "outputId": "fdb1db67-2562-47dd-8a08-200f5fd3d701"
      },
      "source": [
        "model = models.vgg16(pretrained=True)\n",
        "for param in model.parameters():\n",
        "    param.requires_grad = False\n",
        "  \n",
        "model.classifier[6] = torch.nn.Linear(model.classifier[6].in_features, 2)\n",
        "model = model.to(device)\n",
        "loss = torch.nn.CrossEntropyLoss()\n",
        "optimizer = torch.optim.SGD(model.classifier[6].parameters(), lr=0.001, momentum=0.9)\n",
        "train(model, loss, optimizer, 5)"
      ],
      "execution_count": 88,
      "outputs": [
        {
          "output_type": "stream",
          "text": [
            "Epoch 1/5: \n",
            "train_loss: 0.5286, train_acc: 0.7377\n",
            "test_loss: 0.3379, test_acc: 0.8562\n",
            "--------------------------------------------------------------------------------\n",
            "\n",
            "Epoch 2/5: \n",
            "train_loss: 0.3337, train_acc: 0.8730\n",
            "test_loss: 0.2694, test_acc: 0.8889\n",
            "--------------------------------------------------------------------------------\n",
            "\n",
            "Epoch 3/5: \n",
            "train_loss: 0.3316, train_acc: 0.8566\n",
            "test_loss: 0.2781, test_acc: 0.8758\n",
            "--------------------------------------------------------------------------------\n",
            "\n",
            "Epoch 4/5: \n",
            "train_loss: 0.3213, train_acc: 0.8525\n",
            "test_loss: 0.4605, test_acc: 0.8105\n",
            "--------------------------------------------------------------------------------\n",
            "\n",
            "Epoch 5/5: \n",
            "train_loss: 0.3507, train_acc: 0.8443\n",
            "test_loss: 0.2852, test_acc: 0.9020\n",
            "--------------------------------------------------------------------------------\n",
            "\n"
          ],
          "name": "stdout"
        }
      ]
    }
  ]
}