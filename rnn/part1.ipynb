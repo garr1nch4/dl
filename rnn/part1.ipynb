{
  "nbformat": 4,
  "nbformat_minor": 0,
  "metadata": {
    "kernelspec": {
      "display_name": "Python 3",
      "language": "python",
      "name": "python3"
    },
    "language_info": {
      "codemirror_mode": {
        "name": "ipython",
        "version": 3
      },
      "file_extension": ".py",
      "mimetype": "text/x-python",
      "name": "python",
      "nbconvert_exporter": "python",
      "pygments_lexer": "ipython3",
      "version": "3.7.7"
    },
    "colab": {
      "name": "notebook.ipynb",
      "provenance": [],
      "collapsed_sections": [],
      "toc_visible": true
    },
    "accelerator": "GPU"
  },
  "cells": [
    {
      "cell_type": "markdown",
      "metadata": {
        "id": "XBOo9qokW2Bm"
      },
      "source": [
        ""
      ]
    },
    {
      "cell_type": "code",
      "metadata": {
        "id": "3pG1472ZlRaP"
      },
      "source": [
        "import torch\n",
        "import os\n",
        "import numpy as np\n",
        "import torchvision as tv\n",
        "import matplotlib.pyplot as plt\n",
        "from torchvision import datasets, models, transforms\n",
        "%matplotlib inline"
      ],
      "execution_count": 1,
      "outputs": []
    },
    {
      "cell_type": "code",
      "metadata": {
        "colab": {
          "base_uri": "https://localhost:8080/"
        },
        "id": "Z4-jXlb6dtEr",
        "outputId": "1e9a9393-511c-48f5-b434-51ee8ea331b1"
      },
      "source": [
        "from google.colab import drive\n",
        "drive.mount('/content/drive')"
      ],
      "execution_count": 2,
      "outputs": [
        {
          "output_type": "stream",
          "text": [
            "Mounted at /content/drive\n"
          ],
          "name": "stdout"
        }
      ]
    },
    {
      "cell_type": "code",
      "metadata": {
        "colab": {
          "base_uri": "https://localhost:8080/"
        },
        "id": "jHR0gIgOoevD",
        "outputId": "2e7d2b5d-4b64-4fa6-aa51-db44601ee350"
      },
      "source": [
        "import pandas as pd\n",
        "\n",
        "dataset_path = '/content/drive/MyDrive/Colab Notebooks/dataset.csv'\n",
        "dataset = pd.read_csv(dataset_path, header=None)\n",
        "print(dataset.shape)\n",
        "print(dataset.head())\n",
        "X = dataset[dataset.columns[:-1]]\n",
        "y = dataset[dataset.columns[-1]]"
      ],
      "execution_count": 3,
      "outputs": [
        {
          "output_type": "stream",
          "text": [
            "(20000, 2)\n",
            "                      0                     1\n",
            "0    tkwgnzexww kfuaywb    qhtdkwbuttxhcryvtz\n",
            "1      pcnaoqmoazhx jdz      m kylnjlyweuxgaw\n",
            "2  ljavvykffjxochoobbev  igyssvhccgul ellzzbs\n",
            "3     sjwldsdeeprqwmcjh     pgtiapabbmontj ge\n",
            "4      bfmunydqia jfsym      zcjrkvanfyxgcpvj\n"
          ],
          "name": "stdout"
        }
      ]
    },
    {
      "cell_type": "code",
      "metadata": {
        "id": "tKa72HTgtEIY"
      },
      "source": [
        "def word_to_numbers(alphabet):\n",
        "  mapper = {key: idx + 1 for idx, key in enumerate(alphabet)}\n",
        "  mapper[0] = None\n",
        "  return lambda s: [mapper[l] for l in s]\n",
        "\n",
        "\n",
        "def numbers_to_word(alphabet):\n",
        "  mapper = {idx + 1: key for idx, key in enumerate(alphabet)}\n",
        "  mapper[None] = 0\n",
        "  return lambda n: \"\".join([mapper[i] for i in n])\n"
      ],
      "execution_count": 4,
      "outputs": []
    },
    {
      "cell_type": "code",
      "metadata": {
        "colab": {
          "base_uri": "https://localhost:8080/"
        },
        "id": "F9hNkt5ytiz9",
        "outputId": "0cdc75c3-db6c-4a6f-ff3a-230d95e029aa"
      },
      "source": [
        "import string\n",
        "\n",
        "alphabet = string.ascii_lowercase + ' '\n",
        "to_num = word_to_numbers(alphabet)\n",
        "to_word = numbers_to_word(alphabet)\n",
        "test = to_num(\"hello\")\n",
        "print(test, to_word(test))"
      ],
      "execution_count": 5,
      "outputs": [
        {
          "output_type": "stream",
          "text": [
            "[8, 5, 12, 12, 15] hello\n"
          ],
          "name": "stdout"
        }
      ]
    },
    {
      "cell_type": "code",
      "metadata": {
        "id": "aYu7svyi2KNe"
      },
      "source": [
        "X_ = [to_num(x)[0:10] for x in X[0].tolist()]\n",
        "y_ = [to_num(i)[0:10] for i in y.tolist()]\n"
      ],
      "execution_count": 7,
      "outputs": []
    },
    {
      "cell_type": "code",
      "metadata": {
        "colab": {
          "base_uri": "https://localhost:8080/"
        },
        "id": "k9xGpGYXrEj6",
        "outputId": "fe396d72-d29f-4138-820d-b3e29c5a7884"
      },
      "source": [
        "from sklearn.model_selection import train_test_split\n",
        "\n",
        "X_train, X_test, y_train, y_test = train_test_split(X_, y_, test_size=0.15)\n",
        "X_train = torch.LongTensor(X_train)\n",
        "X_test = torch.LongTensor(X_test)\n",
        "y_train = torch.LongTensor(y_train)\n",
        "y_test = torch.LongTensor(y_test)\n",
        "\n",
        "print(X_train.shape)\n",
        "print(X_test.shape)\n",
        "print(y_train.shape)\n",
        "print(y_test.shape)"
      ],
      "execution_count": 8,
      "outputs": [
        {
          "output_type": "stream",
          "text": [
            "torch.Size([17000, 10])\n",
            "torch.Size([3000, 10])\n",
            "torch.Size([17000, 10])\n",
            "torch.Size([3000, 10])\n"
          ],
          "name": "stdout"
        }
      ]
    },
    {
      "cell_type": "code",
      "metadata": {
        "id": "1j6P9KFErIKA"
      },
      "source": [
        "class Network(torch.nn.Module):\n",
        "    def __init__(self, vocab_size, embed_dim, hidden_dim):\n",
        "        super().__init__()\n",
        "        self.embed = torch.nn.Embedding(vocab_size, embed_dim)\n",
        "        self.rnn = torch.nn.RNN(embed_dim, hidden_dim, batch_first=True)\n",
        "        self.linear = torch.nn.Linear(hidden_dim, vocab_size)\n",
        "        \n",
        "    def forward(self, inp):\n",
        "      inp = self.embed(inp)\n",
        "      inp = inp.unsqueeze(1)\n",
        "      out, _ = self.rnn(inp)\n",
        "      return self.linear(out)\n"
      ],
      "execution_count": 17,
      "outputs": []
    },
    {
      "cell_type": "code",
      "metadata": {
        "id": "5jd-4XwYBXk3"
      },
      "source": [
        "vocab_size = len(alphabet) + 1\n",
        "embed_dim = 28\n",
        "hidden_dim = 128\n",
        "\n",
        "model = Network(vocab_size, embed_dim, hidden_dim)"
      ],
      "execution_count": 18,
      "outputs": []
    },
    {
      "cell_type": "markdown",
      "metadata": {
        "id": "EPDySB1ZCdkX"
      },
      "source": [
        ""
      ]
    },
    {
      "cell_type": "code",
      "metadata": {
        "id": "ukyUQi2PF39X"
      },
      "source": [
        "loss_fn = torch.nn.CrossEntropyLoss()\n",
        "optimizer = torch.optim.Adam(list(model.parameters()), lr=0.001)"
      ],
      "execution_count": 19,
      "outputs": []
    },
    {
      "cell_type": "code",
      "metadata": {
        "colab": {
          "base_uri": "https://localhost:8080/"
        },
        "id": "Osw5bnKtF7Fc",
        "outputId": "fe9fb7f1-d025-47bd-c169-ff9db2338404"
      },
      "source": [
        "train_loss = 0.\n",
        "train_passed = 0\n",
        "model.train()\n",
        "for idx, X_batch in enumerate(X_train):\n",
        "  optimizer.zero_grad()\n",
        "  answers = model.forward(X_batch)\n",
        "  answers = answers.transpose(1, 2)\n",
        "  y_batch = y_train[idx]\n",
        "  y_batch = y_batch.unsqueeze(1)\n",
        "  loss = loss_fn(answers, y_batch)\n",
        "  train_loss += loss.item()\n",
        "  loss.backward()\n",
        "  optimizer.step()\n",
        "  train_passed += 1\n",
        "\n",
        "model.eval()\n",
        "matches, total = 0, 0\n",
        "for idx, X_batch in enumerate(X_test):\n",
        "  answers = model(X_batch)\n",
        "  predictions = torch.nn.functional.softmax(answers, dim=2)\n",
        "  _, batch_out = predictions.max(dim=2)\n",
        "  batch_out = batch_out.squeeze(1)\n",
        "  original = y_test[idx]\n",
        "  matches += torch.eq(batch_out, original).sum().item()\n",
        "  total += torch.numel(batch_out)\n",
        "\n",
        "accuracy = matches / total\n",
        "print('Accuracy: {:4.2f}%'.format(accuracy * 100))\n"
      ],
      "execution_count": 24,
      "outputs": [
        {
          "output_type": "stream",
          "text": [
            "Accuracy: 100.00%\n"
          ],
          "name": "stdout"
        }
      ]
    },
    {
      "cell_type": "code",
      "metadata": {
        "colab": {
          "base_uri": "https://localhost:8080/"
        },
        "id": "n1Zz0faRPxMY",
        "outputId": "70cc270f-fcaa-42c2-d48c-8e598c3ce0b5"
      },
      "source": [
        "control = \"khoorczruog\"\n",
        "x_ = torch.LongTensor(to_num(control))\n",
        "answers = model(x_)\n",
        "predictions = torch.nn.functional.softmax(answers, dim=2)\n",
        "_, batch_out = predictions.max(dim=2)\n",
        "batch_out = batch_out.squeeze(1)\n",
        "print(to_word(batch_out.tolist()))"
      ],
      "execution_count": 25,
      "outputs": [
        {
          "output_type": "stream",
          "text": [
            "hello world\n"
          ],
          "name": "stdout"
        }
      ]
    }
  ]
}