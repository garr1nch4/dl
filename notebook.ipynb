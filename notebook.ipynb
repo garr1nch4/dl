{
  "nbformat": 4,
  "nbformat_minor": 0,
  "metadata": {
    "accelerator": "GPU",
    "colab": {
      "name": "Copy of notebook.ipynb",
      "provenance": [],
      "collapsed_sections": [],
      "toc_visible": true
    },
    "kernelspec": {
      "display_name": "Python 3",
      "name": "python3"
    },
    "language_info": {
      "codemirror_mode": {
        "name": "ipython",
        "version": 3
      },
      "file_extension": ".py",
      "mimetype": "text/x-python",
      "name": "python",
      "nbconvert_exporter": "python",
      "pygments_lexer": "ipython3",
      "version": "3.6.6"
    }
  },
  "cells": [
    {
      "cell_type": "code",
      "metadata": {
        "id": "-YlRH3mQM9tf"
      },
      "source": [
        "%matplotlib inline"
      ],
      "execution_count": null,
      "outputs": []
    },
    {
      "cell_type": "code",
      "metadata": {
        "id": "WQN81zFRk0-S"
      },
      "source": [
        "!pip3 install torchtext==0.8.1 spacy==3.0.0"
      ],
      "execution_count": null,
      "outputs": []
    },
    {
      "cell_type": "code",
      "metadata": {
        "id": "D2dnBer1nfv8"
      },
      "source": [
        "!python -m spacy download en_core_web_sm\n",
        "!python -m spacy download ru_core_news_sm"
      ],
      "execution_count": null,
      "outputs": []
    },
    {
      "cell_type": "code",
      "metadata": {
        "id": "MIEGXF8oM9tt"
      },
      "source": [
        "import torch\n",
        "import torch.nn as nn\n",
        "import torch.optim as optim\n",
        "from torchtext.data import Field, BucketIterator, Example, Field, Dataset\n",
        "from torchtext.data.metrics import bleu_score\n",
        "import spacy "
      ],
      "execution_count": null,
      "outputs": []
    },
    {
      "cell_type": "code",
      "metadata": {
        "id": "5MYpe6Vli0dB"
      },
      "source": [
        "def translate_sentence(model, sentence, english, russian, device, max_length=50):\n",
        "    spacy_eng = spacy.load(\"en_core_web_sm\")\n",
        "    spacy_rus = spacy.load(\"ru_core_news_sm\")\n",
        "\n",
        "    if type(sentence) == str:\n",
        "        tokens = [token.text.lower() for token in spacy_eng(sentence)]\n",
        "    else:\n",
        "        tokens = [token.lower() for token in sentence]\n",
        "\n",
        "    tokens.insert(0, english.init_token)\n",
        "    tokens.append(english.eos_token)\n",
        "\n",
        "    text_to_indices = [english.vocab.stoi[token] for token in tokens]\n",
        "\n",
        "    sentence_tensor = torch.LongTensor(text_to_indices).unsqueeze(1).to(device)\n",
        "\n",
        "    outputs = [russian.vocab.stoi[\"<sos>\"]]\n",
        "    for i in range(max_length):\n",
        "        trg_tensor = torch.LongTensor(outputs).unsqueeze(1).to(device)\n",
        "\n",
        "        with torch.no_grad():\n",
        "            output = model(sentence_tensor, trg_tensor)\n",
        "\n",
        "        best_guess = output.argmax(2)[-1, :].item()\n",
        "        outputs.append(best_guess)\n",
        "\n",
        "        if best_guess == russian.vocab.stoi[\"<eos>\"]:\n",
        "            break\n",
        "\n",
        "    translated_sentence = [russian.vocab.itos[idx] for idx in outputs]\n",
        "    return translated_sentence[1:]\n"
      ],
      "execution_count": null,
      "outputs": []
    },
    {
      "cell_type": "code",
      "metadata": {
        "colab": {
          "base_uri": "https://localhost:8080/",
          "height": 204
        },
        "id": "FC5CXiury7EL",
        "outputId": "987bf11e-558e-48b8-8d1e-0f7711d75085"
      },
      "source": [
        "import re\n",
        "import pandas as pd\n",
        "\n",
        "df = pd.read_csv(\"rus.txt\", sep='\\t', header=None).drop(2, axis=1)\n",
        "df = df.rename(columns={0: \"text\", 1: \"label\"})\n",
        "df['text'] = df['text'].apply(lambda x: re.sub(r'[^a-z ]+', '', x.lower()))\n",
        "df['label'] = df['label'].apply(lambda x: re.sub(r'[^а-яё ]+', '', x.lower()))\n",
        "df.sample(5)"
      ],
      "execution_count": null,
      "outputs": [
        {
          "output_type": "execute_result",
          "data": {
            "text/html": [
              "<div>\n",
              "<style scoped>\n",
              "    .dataframe tbody tr th:only-of-type {\n",
              "        vertical-align: middle;\n",
              "    }\n",
              "\n",
              "    .dataframe tbody tr th {\n",
              "        vertical-align: top;\n",
              "    }\n",
              "\n",
              "    .dataframe thead th {\n",
              "        text-align: right;\n",
              "    }\n",
              "</style>\n",
              "<table border=\"1\" class=\"dataframe\">\n",
              "  <thead>\n",
              "    <tr style=\"text-align: right;\">\n",
              "      <th></th>\n",
              "      <th>text</th>\n",
              "      <th>label</th>\n",
              "    </tr>\n",
              "  </thead>\n",
              "  <tbody>\n",
              "    <tr>\n",
              "      <th>241863</th>\n",
              "      <td>tom told mary he despised her</td>\n",
              "      <td>том сказал мэри что презирает её</td>\n",
              "    </tr>\n",
              "    <tr>\n",
              "      <th>112438</th>\n",
              "      <td>i have to do something</td>\n",
              "      <td>мне надо коечто сделать</td>\n",
              "    </tr>\n",
              "    <tr>\n",
              "      <th>100680</th>\n",
              "      <td>lets all go together</td>\n",
              "      <td>пойдём все вместе</td>\n",
              "    </tr>\n",
              "    <tr>\n",
              "      <th>291986</th>\n",
              "      <td>didnt you know tom lived with us</td>\n",
              "      <td>ты не знал что том живёт с нами</td>\n",
              "    </tr>\n",
              "    <tr>\n",
              "      <th>305331</th>\n",
              "      <td>he cut his sister a piece of bread</td>\n",
              "      <td>он отрезал сестре кусок хлеба</td>\n",
              "    </tr>\n",
              "  </tbody>\n",
              "</table>\n",
              "</div>"
            ],
            "text/plain": [
              "                                      text                             label\n",
              "241863       tom told mary he despised her  том сказал мэри что презирает её\n",
              "112438              i have to do something           мне надо коечто сделать\n",
              "100680                lets all go together                 пойдём все вместе\n",
              "291986    didnt you know tom lived with us   ты не знал что том живёт с нами\n",
              "305331  he cut his sister a piece of bread     он отрезал сестре кусок хлеба"
            ]
          },
          "metadata": {
            "tags": []
          },
          "execution_count": 6
        }
      ]
    },
    {
      "cell_type": "code",
      "metadata": {
        "id": "GHUlF9v7d6NY"
      },
      "source": [
        "class DataFrameDataset(Dataset):\n",
        "    def __init__(self, df: pd.DataFrame, fields: list):\n",
        "        super(DataFrameDataset, self).__init__(\n",
        "            [Example.fromlist(list(r), fields) for i, r in df.iterrows()], \n",
        "            fields\n",
        "        )"
      ],
      "execution_count": null,
      "outputs": []
    },
    {
      "cell_type": "code",
      "metadata": {
        "id": "HNPfBPzYm-i2"
      },
      "source": [
        "spacy_eng = spacy.load(\"en_core_web_sm\")\n",
        "spacy_rus = spacy.load(\"ru_core_news_sm\")\n",
        "\n",
        "def tokenize_eng(text):\n",
        "    return [tok.text for tok in spacy_eng.tokenizer(text)]\n",
        "\n",
        "\n",
        "def tokenize_rus(text):\n",
        "    return [tok.text for tok in spacy_rus.tokenizer(text)]\n",
        "\n",
        "\n",
        "english = Field(\n",
        "    tokenize=tokenize_eng, \n",
        "    lower=True,\n",
        "    init_token=\"<sos>\",\n",
        "    eos_token=\"<eos>\"\n",
        ")\n",
        "\n",
        "russian = Field(\n",
        "    tokenize=tokenize_rus,\n",
        "    lower=True,\n",
        "    init_token=\"<sos>\",\n",
        "    eos_token=\"<eos>\"\n",
        ")\n",
        "\n",
        "df[\"text\"] = df['text'].apply(lambda x: english.preprocess(x))\n",
        "df[\"label\"] = df['label'].apply(lambda x: russian.preprocess(x))\n",
        "\n",
        "train_dataset, test_dataset = DataFrameDataset(\n",
        "    df=df, \n",
        "    fields=(('src', english), ('trg', russian))\n",
        ").split()\n",
        "\n",
        "english.build_vocab(train_dataset, max_size=10000, min_freq=2)\n",
        "russian.build_vocab(train_dataset, max_size=10000, min_freq=2)"
      ],
      "execution_count": null,
      "outputs": []
    },
    {
      "cell_type": "code",
      "metadata": {
        "id": "MI7OVY0Pnych"
      },
      "source": [
        "class Transformer(nn.Module):\n",
        "    def __init__(\n",
        "        self,\n",
        "        embedding_size,\n",
        "        src_vocab_size,\n",
        "        trg_vocab_size,\n",
        "        src_pad_idx,\n",
        "        num_heads,\n",
        "        num_encoder_layers,\n",
        "        num_decoder_layers,\n",
        "        forward_expansion,\n",
        "        dropout,\n",
        "        max_len,\n",
        "        device,\n",
        "    ):\n",
        "        super(Transformer, self).__init__()\n",
        "        self.src_word_embedding = nn.Embedding(src_vocab_size, embedding_size)\n",
        "        self.src_position_embedding = nn.Embedding(max_len, embedding_size)\n",
        "        self.trg_word_embedding = nn.Embedding(trg_vocab_size, embedding_size)\n",
        "        self.trg_position_embedding = nn.Embedding(max_len, embedding_size)\n",
        "\n",
        "        self.device = device\n",
        "        self.transformer = nn.Transformer(\n",
        "            embedding_size,\n",
        "            num_heads,\n",
        "            num_encoder_layers,\n",
        "            num_decoder_layers,\n",
        "            forward_expansion,\n",
        "            dropout,\n",
        "        )\n",
        "        self.fc_out = nn.Linear(embedding_size, trg_vocab_size)\n",
        "        self.dropout = nn.Dropout(dropout)\n",
        "        self.src_pad_idx = src_pad_idx\n",
        "\n",
        "    def make_src_mask(self, src):\n",
        "        src_mask = src.transpose(0, 1) == self.src_pad_idx\n",
        "        return src_mask.to(self.device)\n",
        "\n",
        "    def forward(self, src, trg):\n",
        "        src_seq_length, N = src.shape\n",
        "        trg_seq_length, N = trg.shape\n",
        "        trg_seq_length = trg_seq_length\n",
        "\n",
        "        src_positions = (\n",
        "            torch.arange(0, src_seq_length)\n",
        "            .unsqueeze(1)\n",
        "            .expand(src_seq_length, N)\n",
        "            .to(self.device)\n",
        "        )\n",
        "\n",
        "        trg_positions = (\n",
        "            torch.arange(0, trg_seq_length)\n",
        "            .unsqueeze(1)\n",
        "            .expand(trg_seq_length, N)\n",
        "            .to(self.device)\n",
        "        )\n",
        "        try:\n",
        "          embed_src1 = self.src_word_embedding(src)\n",
        "          embed_src2 = self.src_position_embedding(src_positions)\n",
        "          embed_src = self.dropout(embed_src1 + embed_src2)\n",
        "          embed_trg1 = self.trg_word_embedding(trg)\n",
        "          embed_trg2 = self.trg_position_embedding(trg_positions)\n",
        "          embed_trg = self.dropout(embed_trg1 + embed_trg2)\n",
        "        except IndexError as e:\n",
        "          print(src)\n",
        "          print(embed_src1.shape)\n",
        "          print(src_positions.shape)\n",
        "          print(embed_src2.shape)\n",
        "          raise e\n",
        "\n",
        "        src_padding_mask = self.make_src_mask(src)\n",
        "        trg_mask = self.transformer.generate_square_subsequent_mask(trg_seq_length)\n",
        "        \n",
        "        trg_mask = trg_mask.to(self.device)\n",
        "\n",
        "        out = self.transformer(\n",
        "            embed_src,\n",
        "            embed_trg,\n",
        "            src_key_padding_mask=src_padding_mask,\n",
        "            tgt_mask=trg_mask,\n",
        "        )\n",
        "        out = self.fc_out(out)\n",
        "        return out"
      ],
      "execution_count": null,
      "outputs": []
    },
    {
      "cell_type": "code",
      "metadata": {
        "colab": {
          "base_uri": "https://localhost:8080/"
        },
        "id": "21yFin3WoLHN",
        "outputId": "98be7d45-4db8-4f80-946b-251a248c32ec"
      },
      "source": [
        "device = torch.device(\"cuda\" if torch.cuda.is_available() else \"cpu\")\n",
        "#device = 'cpu'\n",
        "num_epochs = 100\n",
        "learning_rate = 3e-4\n",
        "batch_size = 32\n",
        "\n",
        "src_vocab_size = len(english.vocab)\n",
        "trg_vocab_size = len(russian.vocab)\n",
        "embedding_size = 512\n",
        "num_heads = 8\n",
        "num_encoder_layers = 3\n",
        "num_decoder_layers = 3\n",
        "dropout = 0.10\n",
        "max_len = 105\n",
        "forward_expansion = 4\n",
        "src_pad_idx = english.vocab.stoi[\"<pad>\"]\n",
        "\n",
        "step = 0\n",
        "\n",
        "train_iterator, test_iterator = BucketIterator.splits(\n",
        "    (train_dataset, test_dataset),\n",
        "    batch_size=batch_size,\n",
        "    sort_within_batch=True,\n",
        "    sort_key=lambda x: len(x.src),\n",
        "    device=device,\n",
        ")\n",
        "\n",
        "model = Transformer(\n",
        "    embedding_size,\n",
        "    src_vocab_size,\n",
        "    trg_vocab_size,\n",
        "    src_pad_idx,\n",
        "    num_heads,\n",
        "    num_encoder_layers,\n",
        "    num_decoder_layers,\n",
        "    forward_expansion,\n",
        "    dropout,\n",
        "    max_len,\n",
        "    device,\n",
        ").to(device)\n",
        "\n",
        "optimizer = optim.Adam(model.parameters(), lr=learning_rate)\n",
        "\n",
        "scheduler = torch.optim.lr_scheduler.ReduceLROnPlateau(\n",
        "    optimizer, factor=0.1, patience=10, verbose=True\n",
        ")\n",
        "\n",
        "pad_idx = english.vocab.stoi[\"<pad>\"]\n",
        "criterion = nn.CrossEntropyLoss(ignore_index=pad_idx)\n"
      ],
      "execution_count": null,
      "outputs": [
        {
          "output_type": "stream",
          "text": [
            "/usr/local/lib/python3.7/dist-packages/torchtext/data/iterator.py:48: UserWarning: BucketIterator class will be retired soon and moved to torchtext.legacy. Please see the most recent release notes for further information.\n",
            "  warnings.warn('{} class will be retired soon and moved to torchtext.legacy. Please see the most recent release notes for further information.'.format(self.__class__.__name__), UserWarning)\n"
          ],
          "name": "stderr"
        }
      ]
    },
    {
      "cell_type": "code",
      "metadata": {
        "colab": {
          "base_uri": "https://localhost:8080/"
        },
        "id": "8MHDnjXPlS3R",
        "outputId": "47d27f1e-81fa-4681-916c-958ce1de6bc0"
      },
      "source": [
        "sentence = \"let me put that somewhere safe\"\n",
        "print(sentence)\n",
        "tokens = [token.text.lower() for token in spacy_eng(sentence)]\n",
        "print(tokens)\n",
        "text_to_indices = [english.vocab.stoi[token] for token in tokens]\n",
        "print(text_to_indices)\n",
        "sentence_tensor = torch.LongTensor(text_to_indices)\n",
        "print(sentence_tensor)\n",
        "s = sentence_tensor.unsqueeze(1)\n",
        "print(s)\n",
        "print(device)\n",
        "s.to(device)"
      ],
      "execution_count": null,
      "outputs": [
        {
          "output_type": "stream",
          "text": [
            "let me put that somewhere safe\n",
            "['let', 'me', 'put', 'that', 'somewhere', 'safe']\n",
            "[142, 15, 178, 11, 802, 552]\n",
            "tensor([142,  15, 178,  11, 802, 552])\n",
            "tensor([[142],\n",
            "        [ 15],\n",
            "        [178],\n",
            "        [ 11],\n",
            "        [802],\n",
            "        [552]])\n",
            "cpu\n"
          ],
          "name": "stdout"
        },
        {
          "output_type": "execute_result",
          "data": {
            "text/plain": [
              "tensor([[142],\n",
              "        [ 15],\n",
              "        [178],\n",
              "        [ 11],\n",
              "        [802],\n",
              "        [552]])"
            ]
          },
          "metadata": {
            "tags": []
          },
          "execution_count": 34
        }
      ]
    },
    {
      "cell_type": "code",
      "metadata": {
        "colab": {
          "base_uri": "https://localhost:8080/"
        },
        "id": "BsPokbqmoM_y",
        "outputId": "b4546409-6893-482a-dda9-d0c5ffca01b7"
      },
      "source": [
        "sentence = \"let me put that somewhere safe\"\n",
        "\n",
        "num_epochs = 10\n",
        "\n",
        "for epoch in range(num_epochs):\n",
        "    print(f\"[Epoch {epoch} / {num_epochs}]\")\n",
        "\n",
        "    model.eval()\n",
        "    translated_sentence = translate_sentence(\n",
        "        model, sentence, english, russian, device, max_length=50\n",
        "    )\n",
        "\n",
        "    print(f\"Translated example sentence: \\n {translated_sentence}\")\n",
        "    model.train()\n",
        "    losses = []\n",
        "\n",
        "    for batch_idx, batch in enumerate(train_iterator):\n",
        "        inp_data = batch.src.to(device)\n",
        "        target = batch.trg.to(device)\n",
        "        output = model(inp_data, target[:-1, :])\n",
        "        output = output.reshape(-1, output.shape[2])\n",
        "        target = target[1:].reshape(-1)\n",
        "\n",
        "        optimizer.zero_grad()\n",
        "\n",
        "        loss = criterion(output, target)\n",
        "        losses.append(loss.item())\n",
        "\n",
        "        loss.backward()\n",
        "        torch.nn.utils.clip_grad_norm_(model.parameters(), max_norm=1)\n",
        "        optimizer.step()\n",
        "        step += 1\n",
        "\n",
        "    mean_loss = sum(losses) / len(losses)\n",
        "    scheduler.step(mean_loss)"
      ],
      "execution_count": null,
      "outputs": [
        {
          "output_type": "stream",
          "text": [
            "[Epoch 0 / 10]\n",
            "Translated example sentence: \n",
            " ['позвольте', 'мне', 'положить', 'это', 'куданибудь', 'в', 'какоенибудь', 'место', '<eos>']\n"
          ],
          "name": "stdout"
        },
        {
          "output_type": "stream",
          "text": [
            "/usr/local/lib/python3.7/dist-packages/torchtext/data/batch.py:23: UserWarning: Batch class will be retired soon and moved to torchtext.legacy. Please see the most recent release notes for further information.\n",
            "  warnings.warn('{} class will be retired soon and moved to torchtext.legacy. Please see the most recent release notes for further information.'.format(self.__class__.__name__), UserWarning)\n"
          ],
          "name": "stderr"
        },
        {
          "output_type": "stream",
          "text": [
            "[Epoch 1 / 10]\n",
            "Translated example sentence: \n",
            " ['давай', 'я', 'положу', 'это', 'гденибудь', 'в', 'безопасности', '<eos>']\n",
            "[Epoch 2 / 10]\n",
            "Translated example sentence: \n",
            " ['давай', 'я', 'положу', 'это', 'гденибудь', 'в', 'безопасности', '<eos>']\n",
            "[Epoch 3 / 10]\n",
            "Translated example sentence: \n",
            " ['позвольте', 'мне', 'положить', 'это', 'гдето', 'в', 'какоенибудь', 'надёжное', 'место', '<eos>']\n",
            "[Epoch 4 / 10]\n",
            "Translated example sentence: \n",
            " ['давай', 'я', 'положу', 'это', 'гденибудь', 'в', 'безопасности', '<eos>']\n",
            "[Epoch 5 / 10]\n",
            "Translated example sentence: \n",
            " ['давай', 'я', 'положу', 'это', 'гденибудь', 'в', 'какоенибудь', 'место', '<eos>']\n",
            "[Epoch 6 / 10]\n",
            "Translated example sentence: \n",
            " ['давайте', 'я', 'положу', 'это', 'в', 'какоенибудь', 'надёжное', 'место', '<eos>']\n",
            "[Epoch 7 / 10]\n",
            "Translated example sentence: \n",
            " ['давай', 'я', 'положу', 'это', 'гдето', 'в', 'какоенибудь', 'надёжное', 'место', '<eos>']\n",
            "[Epoch 8 / 10]\n",
            "Translated example sentence: \n",
            " ['давайте', 'я', 'положу', 'это', 'в', 'какоенибудь', 'надёжное', 'место', '<eos>']\n",
            "[Epoch 9 / 10]\n",
            "Translated example sentence: \n",
            " ['давайте', 'я', 'положу', 'это', 'гденибудь', 'в', 'безопасности', '<eos>']\n"
          ],
          "name": "stdout"
        }
      ]
    },
    {
      "cell_type": "code",
      "metadata": {
        "id": "n67nRfk6P3eP"
      },
      "source": [
        "def bleu(data, model, english, russian, device):\n",
        "    targets = []\n",
        "    outputs = []\n",
        "    i = 0\n",
        "    for example in data:\n",
        "        src = vars(example)[\"src\"]\n",
        "        trg = vars(example)[\"trg\"]\n",
        "        \n",
        "        prediction = translate_sentence(model, src, english, russian, device)\n",
        "        prediction = prediction[:-1]\n",
        "        trg = list(filter(lambda x: x != ' ', trg))\n",
        "        prediction = list(filter(lambda x: x != ' ', prediction))\n",
        "        i += 1\n",
        "        if i % 10 == 0:\n",
        "          print(\"Original: \", src)\n",
        "          print(\"Translate: \", trg)\n",
        "          print(\"Prediction: \", prediction)\n",
        "          print(\"---\" * 5)\n",
        "\n",
        "        targets.append([trg])\n",
        "        outputs.append(prediction)\n",
        "\n",
        "    return bleu_score(outputs, targets)\n",
        "\n",
        "\n"
      ],
      "execution_count": 117,
      "outputs": []
    },
    {
      "cell_type": "code",
      "metadata": {
        "id": "29VZiF8eQR8j"
      },
      "source": [
        "test_for_blue = test_dataset[1:100]"
      ],
      "execution_count": 118,
      "outputs": []
    },
    {
      "cell_type": "code",
      "metadata": {
        "colab": {
          "base_uri": "https://localhost:8080/"
        },
        "id": "MY55i1ZpQP-1",
        "outputId": "3a5892c4-3a37-4c91-d5b3-55fffcb7da66"
      },
      "source": [
        "score = bleu(test_for_blue, model, english, russian, device)\n",
        "print(f\"Bleu score {score * 100:.2f}\")"
      ],
      "execution_count": 119,
      "outputs": [
        {
          "output_type": "stream",
          "text": [
            "Original:  ['were', 'you', 'with', 'anyone']\n",
            "Translate:  ['ты', 'был', 'с', 'кемто']\n",
            "Prediction:  ['вы', 'были', 'с', 'кемто']\n",
            "---------------\n",
            "Original:  ['i', 'did', 'nt', 'know', 'that', 'tom', 'was', 'a', 'friend', 'of', 'yours']\n",
            "Translate:  ['я', 'не', 'знал', 'что', 'том', 'твой', 'друг']\n",
            "Prediction:  ['я', 'не', 'знал', 'что', 'том', 'твой', 'друг']\n",
            "---------------\n",
            "Original:  ['what', 'are', 'you', 'looking', 'for']\n",
            "Translate:  ['что', 'вы', 'ищете']\n",
            "Prediction:  ['что', 'вы', 'ищете']\n",
            "---------------\n",
            "Original:  ['i', 'just', 'do', 'nt', 'want', 'tom', 'to', 'win']\n",
            "Translate:  ['я', 'просто', 'не', 'хочу', 'чтобы', 'том', 'выиграл']\n",
            "Prediction:  ['я', 'просто', 'не', 'хочу', 'чтобы', 'том', 'победил']\n",
            "---------------\n",
            "Original:  ['please', 'do', 'nt', 'judge', 'me']\n",
            "Translate:  ['пожалуйста', 'не', 'суди', 'меня']\n",
            "Prediction:  ['пожалуйста', 'не', 'судить', 'ко', 'мне']\n",
            "---------------\n",
            "Original:  ['the', 'teacher', 'told', 'me', 'to', 'stand', 'up']\n",
            "Translate:  ['учитель', 'сказал', 'мне', 'встать']\n",
            "Prediction:  ['учитель', 'сказал', 'мне', 'встать']\n",
            "---------------\n",
            "Original:  ['tom', 'told', 'me', 'he', 'did', 'nt', 'know', 'what', 'to', 'do']\n",
            "Translate:  ['том', 'сказал', 'мне', 'что', 'не', 'знает', 'что', 'делать']\n",
            "Prediction:  ['том', 'сказал', 'мне', 'что', 'не', 'знает', 'что', 'делать']\n",
            "---------------\n",
            "Original:  ['its', 'the', 'only', 'way', 'to', 'do', 'it']\n",
            "Translate:  ['это', 'единственный', 'способ', 'это', 'сделать']\n",
            "Prediction:  ['это', 'единственный', 'способ', 'это', 'сделать']\n",
            "---------------\n",
            "Original:  ['how', 'can', 'you', 'watch', 'a', 'movie', 'without', 'popcorn']\n",
            "Translate:  ['как', 'ты', 'можешь', 'смотреть', 'кино', 'без', 'попкорна']\n",
            "Prediction:  ['как', 'вы', 'можете', 'смотреть', 'кино', '<unk>', 'без', 'попкорна']\n",
            "---------------\n",
            "Bleu score 37.06\n"
          ],
          "name": "stdout"
        }
      ]
    }
  ]
}